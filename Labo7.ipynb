{
 "cells": [
  {
   "cell_type": "markdown",
   "metadata": {},
   "source": [
    "#### Deep Learning\n",
    "#### Autores: Mariana David \n",
    "#### Autores: Pablo Escobar \n",
    "#### Laboratorio 6 y 7"
   ]
  },
  {
   "cell_type": "markdown",
   "metadata": {},
   "source": [
    "# Red neuronal basado en el filtro colaborativo\n"
   ]
  },
  {
   "cell_type": "markdown",
   "metadata": {},
   "source": [
    "NNRM\n"
   ]
  },
  {
   "cell_type": "code",
   "execution_count": 2,
   "metadata": {},
   "outputs": [
    {
     "ename": "KeyError",
     "evalue": "'COLAB_TPU_ADDR'",
     "output_type": "error",
     "traceback": [
      "\u001b[1;31m---------------------------------------------------------------------------\u001b[0m",
      "\u001b[1;31mKeyError\u001b[0m                                  Traceback (most recent call last)",
      "\u001b[1;32mc:\\Users\\Mariana\\Documents\\Universidad\\proyect2raro\\Lab6-DL\\Labo7.ipynb Celda 4\u001b[0m line \u001b[0;36m1\n\u001b[0;32m      <a href='vscode-notebook-cell:/c%3A/Users/Mariana/Documents/Universidad/proyect2raro/Lab6-DL/Labo7.ipynb#W0sZmlsZQ%3D%3D?line=6'>7</a>\u001b[0m \u001b[39mfrom\u001b[39;00m \u001b[39msklearn\u001b[39;00m\u001b[39m.\u001b[39;00m\u001b[39mpreprocessing\u001b[39;00m \u001b[39mimport\u001b[39;00m LabelEncoder\n\u001b[0;32m      <a href='vscode-notebook-cell:/c%3A/Users/Mariana/Documents/Universidad/proyect2raro/Lab6-DL/Labo7.ipynb#W0sZmlsZQ%3D%3D?line=8'>9</a>\u001b[0m \u001b[39m# Configurar la TPU en Google Colab\u001b[39;00m\n\u001b[1;32m---> <a href='vscode-notebook-cell:/c%3A/Users/Mariana/Documents/Universidad/proyect2raro/Lab6-DL/Labo7.ipynb#W0sZmlsZQ%3D%3D?line=9'>10</a>\u001b[0m resolver \u001b[39m=\u001b[39m tf\u001b[39m.\u001b[39mdistribute\u001b[39m.\u001b[39mcluster_resolver\u001b[39m.\u001b[39mTPUClusterResolver(tpu\u001b[39m=\u001b[39m\u001b[39m'\u001b[39m\u001b[39mgrpc://\u001b[39m\u001b[39m'\u001b[39m \u001b[39m+\u001b[39m os\u001b[39m.\u001b[39;49menviron[\u001b[39m'\u001b[39;49m\u001b[39mCOLAB_TPU_ADDR\u001b[39;49m\u001b[39m'\u001b[39;49m])\n\u001b[0;32m     <a href='vscode-notebook-cell:/c%3A/Users/Mariana/Documents/Universidad/proyect2raro/Lab6-DL/Labo7.ipynb#W0sZmlsZQ%3D%3D?line=10'>11</a>\u001b[0m tf\u001b[39m.\u001b[39mconfig\u001b[39m.\u001b[39mexperimental_connect_to_cluster(resolver)\n\u001b[0;32m     <a href='vscode-notebook-cell:/c%3A/Users/Mariana/Documents/Universidad/proyect2raro/Lab6-DL/Labo7.ipynb#W0sZmlsZQ%3D%3D?line=11'>12</a>\u001b[0m tf\u001b[39m.\u001b[39mtpu\u001b[39m.\u001b[39mexperimental\u001b[39m.\u001b[39minitialize_tpu_system(resolver)\n",
      "File \u001b[1;32m<frozen os>:679\u001b[0m, in \u001b[0;36m__getitem__\u001b[1;34m(self, key)\u001b[0m\n",
      "\u001b[1;31mKeyError\u001b[0m: 'COLAB_TPU_ADDR'"
     ]
    }
   ],
   "source": [
    "import os\n",
    "import pandas as pd\n",
    "import numpy as np\n",
    "import tensorflow as tf\n",
    "from keras.layers import Input, Embedding, Flatten, Concatenate, Dense\n",
    "from keras.models import Model\n",
    "from sklearn.preprocessing import LabelEncoder\n",
    "\n",
    "# Configurar la TPU en Google Colab\n",
    "resolver = tf.distribute.cluster_resolver.TPUClusterResolver(tpu='grpc://' + os.environ['COLAB_TPU_ADDR'])\n",
    "tf.config.experimental_connect_to_cluster(resolver)\n",
    "tf.tpu.experimental.initialize_tpu_system(resolver)\n",
    "strategy = tf.distribute.experimental.TPUStrategy(resolver)\n",
    "\n",
    "with strategy.scope():\n",
    "    # Carga los datos\n",
    "    users_data = pd.read_csv('archive/Users.csv')\n",
    "    books_data = pd.read_csv('archive/Books.csv')\n",
    "    ratings_data = pd.read_csv('archive/Ratings.csv')\n",
    "\n",
    "    users_data = users_data.sample(frac=0.1, random_state=1).reset_index(drop=True)\n",
    "    books_data = books_data.sample(frac=0.1, random_state=1).reset_index(drop=True)\n",
    "    ratings_data = ratings_data.sample(frac=0.1, random_state=1).reset_index(drop=True)\n",
    "\n",
    "    ratings_data['ISBN'] = ratings_data['ISBN'].str.rstrip('X')\n",
    "\n",
    "    label_encoder = LabelEncoder()\n",
    "    ratings_data['ISBN'] = label_encoder.fit_transform(ratings_data['ISBN'])\n",
    "\n",
    "    # Definir las incrustaciones de usuario y libro\n",
    "    num_users = len(users_data) + 1\n",
    "    num_books = len(books_data) + 1\n",
    "    embedding_dim = 200\n",
    "\n",
    "    user_input = Input(shape=[1], name=\"User-Input\")\n",
    "    user_embedding = Embedding(num_users, embedding_dim, name=\"User-Embedding\")(user_input)\n",
    "    user_vec = Flatten(name=\"Flatten-Users\")(user_embedding)\n",
    "\n",
    "    book_input = Input(shape=[1], name=\"Book-Input\")\n",
    "    book_embedding = Embedding(num_books, embedding_dim, name=\"Book-Embedding\")(book_input)\n",
    "    book_vec = Flatten(name=\"Flatten-Books\")(book_embedding)\n",
    "\n",
    "    # Concatenar las incrustaciones de usuario y libro\n",
    "    concat = Concatenate()([user_vec, book_vec])\n",
    "\n",
    "    # Capas densas para la predicción de calificación\n",
    "    dense1 = Dense(128, activation='relu')(concat)\n",
    "    dense2 = Dense(64, activation='relu')(dense1)\n",
    "    output = Dense(1, activation='linear')(dense2)\n",
    "\n",
    "    model = Model(inputs=[user_input, book_input], outputs=output)\n",
    "    model.compile(optimizer='adam', loss='mean_squared_error', metrics=['mean_squared_error'])\n",
    "\n",
    "    history = model.fit([ratings_data['User-ID'], ratings_data['ISBN']], ratings_data['Book-Rating'], epochs=30, verbose=1)\n",
    "\n",
    "# Hacer predicciones\n",
    "user_id = 123  # ID de usuario deseado\n",
    "book_id = 456  # ID de libro deseado\n",
    "predicted_rating = model.predict([np.array([user_id]), np.array([book_id])])\n",
    "\n",
    "print(f'Predicción de calificación para el usuario {user_id} y el libro {book_id}: {predicted_rating[0][0]}')"
   ]
  }
 ],
 "metadata": {
  "kernelspec": {
   "display_name": "Python 3",
   "language": "python",
   "name": "python3"
  },
  "language_info": {
   "codemirror_mode": {
    "name": "ipython",
    "version": 3
   },
   "file_extension": ".py",
   "mimetype": "text/x-python",
   "name": "python",
   "nbconvert_exporter": "python",
   "pygments_lexer": "ipython3",
   "version": "3.11.3"
  }
 },
 "nbformat": 4,
 "nbformat_minor": 2
}
