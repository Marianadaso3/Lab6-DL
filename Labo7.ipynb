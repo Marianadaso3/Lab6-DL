{
 "cells": [
  {
   "cell_type": "markdown",
   "metadata": {},
   "source": [
    "#### Deep Learning\n",
    "#### Autores: Mariana David \n",
    "#### Autores: Pablo Escobar \n",
    "#### Laboratorio 6 y 7"
   ]
  },
  {
   "cell_type": "markdown",
   "metadata": {},
   "source": [
    "# Red neuronal basado en el filtro colaborativo\n"
   ]
  },
  {
   "cell_type": "code",
   "execution_count": 18,
   "metadata": {},
   "outputs": [
    {
     "name": "stdout",
     "output_type": "stream",
     "text": [
      "Model: \"model_11\"\n",
      "__________________________________________________________________________________________________\n",
      " Layer (type)                Output Shape                 Param #   Connected to                  \n",
      "==================================================================================================\n",
      " input_9 (InputLayer)        [(None, 1)]                  0         []                            \n",
      "                                                                                                  \n",
      " input_10 (InputLayer)       [(None, 1)]                  0         []                            \n",
      "                                                                                                  \n",
      " embedding_8 (Embedding)     (None, 1, 32)                1089779   ['input_9[0][0]']             \n",
      "                                                          2                                       \n",
      "                                                                                                  \n",
      " embedding_9 (Embedding)     (None, 1, 32)                3369056   ['input_10[0][0]']            \n",
      "                                                                                                  \n",
      " flatten_8 (Flatten)         (None, 32)                   0         ['embedding_8[0][0]']         \n",
      "                                                                                                  \n",
      " flatten_9 (Flatten)         (None, 32)                   0         ['embedding_9[0][0]']         \n",
      "                                                                                                  \n",
      " concatenate_11 (Concatenat  (None, 64)                   0         ['flatten_8[0][0]',           \n",
      " e)                                                                  'flatten_9[0][0]']           \n",
      "                                                                                                  \n",
      " dense_33 (Dense)            (None, 64)                   4160      ['concatenate_11[0][0]']      \n",
      "                                                                                                  \n",
      " dense_34 (Dense)            (None, 32)                   2080      ['dense_33[0][0]']            \n",
      "                                                                                                  \n",
      " dense_35 (Dense)            (None, 1)                    33        ['dense_34[0][0]']            \n",
      "                                                                                                  \n",
      "==================================================================================================\n",
      "Total params: 14273121 (54.45 MB)\n",
      "Trainable params: 14273121 (54.45 MB)\n",
      "Non-trainable params: 0 (0.00 Byte)\n",
      "__________________________________________________________________________________________________\n"
     ]
    }
   ],
   "source": [
    "from tensorflow.keras.models import Model\n",
    "from tensorflow.keras.layers import Input, Embedding, Flatten, Dense, Concatenate\n",
    "from tensorflow.keras.optimizers import Adam\n",
    "from sklearn.model_selection import train_test_split\n",
    "from sklearn.preprocessing import LabelEncoder\n",
    "import pandas as pd\n",
    "\n",
    "# Load the dataset\n",
    "ratings_df = pd.read_csv('./archive/Ratings.csv', sep=',')\n",
    "\n",
    "user_label_encoder = LabelEncoder()\n",
    "book_label_encoder = LabelEncoder()\n",
    "\n",
    "ratings_df['Encoded_User_ID'] = user_label_encoder.fit_transform(ratings_df['User-ID'])\n",
    "ratings_df['Encoded_Book_ID'] = book_label_encoder.fit_transform(ratings_df['ISBN'])\n",
    "train_data, test_data = train_test_split(ratings_df, test_size=0.2, random_state=42)\n",
    "embedding_dim = 32\n",
    "\n",
    "num_users = ratings_df['Encoded_User_ID'].nunique()\n",
    "num_books = ratings_df['Encoded_Book_ID'].nunique()\n",
    "\n",
    "book_input = Input(shape=(1,))\n",
    "book_embedding = Embedding(num_books, embedding_dim, input_length=1)(book_input)\n",
    "book_vector = Flatten()(book_embedding)\n",
    "\n",
    "user_input = Input(shape=(1,))\n",
    "user_embedding = Embedding(num_users, embedding_dim, input_length=1)(user_input)\n",
    "user_vector = Flatten()(user_embedding)\n",
    "\n",
    "concatenated_vectors = Concatenate()([book_vector, user_vector])\n",
    "\n",
    "dense1 = Dense(64, activation='relu')(concatenated_vectors)\n",
    "dense2 = Dense(32, activation='relu')(dense1)\n",
    "output = Dense(1)(dense2)\n",
    "\n",
    "optimizer = Adam(learning_rate=0.001)\n",
    "\n",
    "model = Model([user_input, book_input], output)\n",
    "model.compile(optimizer=optimizer, loss='mean_squared_error')\n",
    "\n",
    "# Display model summary\n",
    "model.summary()\n"
   ]
  },
  {
   "cell_type": "code",
   "execution_count": 21,
   "metadata": {},
   "outputs": [
    {
     "name": "stdout",
     "output_type": "stream",
     "text": [
      "Epoch 1/10\n",
      "  66/3594 [..............................] - ETA: 11:05 - loss: 12.5836"
     ]
    }
   ],
   "source": [
    "model.fit([train_data['Encoded_User_ID'], train_data['Encoded_Book_ID']], train_data['Book-Rating'], batch_size=128, epochs=10, verbose=1)"
   ]
  }
 ],
 "metadata": {
  "kernelspec": {
   "display_name": "Python 3",
   "language": "python",
   "name": "python3"
  },
  "language_info": {
   "codemirror_mode": {
    "name": "ipython",
    "version": 3
   },
   "file_extension": ".py",
   "mimetype": "text/x-python",
   "name": "python",
   "nbconvert_exporter": "python",
   "pygments_lexer": "ipython3",
   "version": "3.11.4"
  }
 },
 "nbformat": 4,
 "nbformat_minor": 2
}
