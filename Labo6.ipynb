{
 "cells": [
  {
   "cell_type": "markdown",
   "metadata": {},
   "source": [
    "#### Deep Learning\n",
    "#### Autores: Mariana David \n",
    "#### Autores: Pablo Escobar \n",
    "#### Laboratorio 6 y 7\n",
    "\n",
    "# Red neuronal basado en contenido"
   ]
  },
  {
   "cell_type": "code",
   "execution_count": 1,
   "metadata": {},
   "outputs": [],
   "source": [
    "#Importaciones \n",
    "\n",
    "import tensorflow as tf\n",
    "from scipy.sparse import csr_matrix\n",
    "import pandas as pd\n",
    "from sklearn.feature_extraction.text import TfidfVectorizer\n",
    "from sklearn.metrics.pairwise import linear_kernel\n"
   ]
  },
  {
   "cell_type": "code",
   "execution_count": 2,
   "metadata": {},
   "outputs": [
    {
     "name": "stdout",
     "output_type": "stream",
     "text": [
      "No se encontró una TPU. Usando CPU/GPU en su lugar.\n"
     ]
    },
    {
     "name": "stderr",
     "output_type": "stream",
     "text": [
      "C:\\Users\\Mariana\\AppData\\Local\\Temp\\ipykernel_12364\\955398776.py:24: DtypeWarning: Columns (3) have mixed types. Specify dtype option on import or set low_memory=False.\n",
      "  data = pd.read_csv('archive/Books.csv')\n"
     ]
    },
    {
     "name": "stdout",
     "output_type": "stream",
     "text": [
      "0                                       LOST IN THE MUSEUM\n",
      "1                                   Skinned Alive: Stories\n",
      "2         Silly Mid-off: How to Survive the Cricket Season\n",
      "3                        El Pianista del Gueto de Varsovia\n",
      "4        Merry Wives of Windsor (Arden Shakespeare Seco...\n",
      "                               ...                        \n",
      "27131    Valley of Horses (Thorndike Large Print Basic ...\n",
      "27132    An Elizabethan Progress: The Queen's Journey i...\n",
      "27133    Millionaire'S Pregnant Bride (Texas Cattleman'...\n",
      "27134                                             Rosewood\n",
      "27135     Data &amp; Computer Communications (6th Edition)\n",
      "Name: Book-Title, Length: 27136, dtype: object\n"
     ]
    }
   ],
   "source": [
    "from scipy.sparse import csr_matrix\n",
    "\n",
    "\n",
    "def configure_tpu():\n",
    "    # Compruebar entorno\n",
    "    tpu_found = False\n",
    "    try:\n",
    "        resolver = tf.distribute.cluster_resolver.TPUClusterResolver()  # Intenta resolver automáticamente\n",
    "        tf.config.experimental_connect_to_cluster(resolver)\n",
    "        tf.tpu.experimental.initialize_tpu_system(resolver)\n",
    "        tpu_found = True\n",
    "    except Exception as e:\n",
    "        print(\"No se encontró una TPU. Usando CPU/GPU en su lugar.\")\n",
    "    \n",
    "    if tpu_found:\n",
    "        return tf.distribute.experimental.TPUStrategy(resolver)\n",
    "    else:\n",
    "        return tf.distribute.OneDeviceStrategy(\"/device:CPU:0\")  # Usa CPU si no se encuentra una TPU\n",
    "\n",
    "strategy = configure_tpu()\n",
    "\n",
    "with strategy.scope():\n",
    "    # Cargando datos y preprocesamiento (usando el 10% de los datos)\n",
    "    data = pd.read_csv('archive/Books.csv')\n",
    "    data = data.sample(frac=0.1, random_state=1).reset_index(drop=True)\n",
    "\n",
    "    # Creación de perfiles de contenido\n",
    "    data['Content'] = data['Book-Title'] + ' ' + data['Book-Author'].astype(str) + ' ' + data['Year-Of-Publication'].astype(str) + ' ' + data['Publisher']\n",
    "    data['Content'].fillna('ValorPredeterminado', inplace=True)\n",
    "\n",
    "    print(data[\"Book-Title\"])\n",
    "\n",
    "    # Vectorización de texto (TF-IDF)\n",
    "    tfidf_vectorizer = TfidfVectorizer(stop_words='english')\n",
    "    tfidf_matrix = tfidf_vectorizer.fit_transform(data['Content'])\n",
    "\n",
    "    # Convierte tfidf_matrix en una matriz dispersa\n",
    "    tfidf_matrix = csr_matrix(tfidf_matrix)\n",
    "\n",
    "    # Cálculo de similitud de texto (similitud coseno)\n",
    "    cosine_sim = linear_kernel(tfidf_matrix, tfidf_matrix)\n",
    "\n",
    "    # Generación de recomendaciones\n",
    "    def get_recommendations(book_title, cosine_sim=cosine_sim):\n",
    "        if book_title in data['Book-Title'].values:\n",
    "            idx = data[data['Book-Title'] == book_title].index[0]\n",
    "            if idx < len(cosine_sim):\n",
    "                sim_scores = list(enumerate(cosine_sim[idx]))\n",
    "                sim_scores = sorted(sim_scores, key=lambda x: x[1], reverse=True)\n",
    "                sim_scores = sim_scores[1:11]\n",
    "                book_indices = [i[0] for i in sim_scores]\n",
    "                return data['Book-Title'].iloc[book_indices]\n",
    "            else:\n",
    "                return pd.Series([])\n",
    "        else:\n",
    "            return pd.Series([])\n"
   ]
  },
  {
   "cell_type": "code",
   "execution_count": 3,
   "metadata": {},
   "outputs": [
    {
     "name": "stdout",
     "output_type": "stream",
     "text": [
      "La recomendación es:\n",
      "4788                      Fanny: A Fiction (White, Edmund)\n",
      "17816                                     Forgetting Elena\n",
      "5008                                  Sketches from Memory\n",
      "6696                    The Enchanted Land (Romance Alive)\n",
      "26573      To the Wedding: A Novel (Vintage International)\n",
      "19116                                          Another You\n",
      "470                        Our Paris: Sketches from Memory\n",
      "8533          River Dogs: Stories (Vintage Contemporaries)\n",
      "18308    The Safety of Objects: Stories (Vintage Contem...\n",
      "10586                      Nightrose (Romance Alive Audio)\n",
      "Name: Book-Title, dtype: object\n"
     ]
    }
   ],
   "source": [
    "libro = \"Skinned Alive: Stories\"\n",
    "\n",
    "if libro in data['Book-Title'].values:\n",
    "    recommendations = get_recommendations(libro)\n",
    "    print(\"La recomendación es:\")\n",
    "    print(recommendations)\n",
    "else:\n",
    "  print(f\"'{libro}' no se encuentra en el conjunto de datos.\")"
   ]
  }
 ],
 "metadata": {
  "kernelspec": {
   "display_name": "Python 3",
   "language": "python",
   "name": "python3"
  },
  "language_info": {
   "codemirror_mode": {
    "name": "ipython",
    "version": 3
   },
   "file_extension": ".py",
   "mimetype": "text/x-python",
   "name": "python",
   "nbconvert_exporter": "python",
   "pygments_lexer": "ipython3",
   "version": "3.11.3"
  }
 },
 "nbformat": 4,
 "nbformat_minor": 2
}
